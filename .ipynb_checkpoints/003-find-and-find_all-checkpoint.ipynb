{
 "cells": [
  {
   "cell_type": "code",
   "execution_count": 17,
   "id": "1770c099-572c-4657-a753-a3442b60a89d",
   "metadata": {},
   "outputs": [],
   "source": [
    "import requests \n",
    "from bs4 import BeautifulSoup"
   ]
  },
  {
   "cell_type": "code",
   "execution_count": 18,
   "id": "2f8d64bb-aed7-4c79-b8a4-4f3bffcc692b",
   "metadata": {},
   "outputs": [],
   "source": [
    "url = \"https://beautiful-soup-4.readthedocs.io/en/latest\"\n",
    "response = requests.get(url)"
   ]
  },
  {
   "cell_type": "code",
   "execution_count": 19,
   "id": "798d2fc9-3c16-4775-afd9-0b311e937655",
   "metadata": {},
   "outputs": [],
   "source": [
    "raw_code = response.text"
   ]
  },
  {
   "cell_type": "code",
   "execution_count": 24,
   "id": "32681a8f-55a3-41e7-a2ba-d63ee3a808a8",
   "metadata": {},
   "outputs": [],
   "source": [
    "soup = BeautifulSoup(raw_code, \"html.parser\")"
   ]
  },
  {
   "cell_type": "code",
   "execution_count": 25,
   "id": "8517b463-5b60-4b65-b5a7-c094659e8b19",
   "metadata": {},
   "outputs": [
    {
     "name": "stdout",
     "output_type": "stream",
     "text": [
      "<h2>Getting help<a class=\"headerlink\" href=\"#getting-help\" title=\"Permalink to this headline\">Â¶</a></h2>\n"
     ]
    }
   ],
   "source": [
    "print(soup.h2)"
   ]
  }
 ],
 "metadata": {
  "kernelspec": {
   "display_name": "Python 3 (ipykernel)",
   "language": "python",
   "name": "python3"
  },
  "language_info": {
   "codemirror_mode": {
    "name": "ipython",
    "version": 3
   },
   "file_extension": ".py",
   "mimetype": "text/x-python",
   "name": "python",
   "nbconvert_exporter": "python",
   "pygments_lexer": "ipython3",
   "version": "3.10.12"
  }
 },
 "nbformat": 4,
 "nbformat_minor": 5
}
